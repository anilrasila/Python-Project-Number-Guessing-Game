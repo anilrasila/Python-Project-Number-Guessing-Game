{
 "cells": [
  {
   "cell_type": "code",
   "execution_count": 18,
   "id": "afd29659",
   "metadata": {},
   "outputs": [
    {
     "name": "stdout",
     "output_type": "stream",
     "text": [
      "Your guessing number is : 12\n",
      "Computer number is : 41\n",
      "\n",
      "\tYour guess is too Low\n",
      "\n",
      "\tThanks for Playing !!!\n"
     ]
    }
   ],
   "source": [
    "import random\n",
    "comp_number = random.randrange(1,101)\n",
    "user_input = int(input(\"Your guessing number is : \"))\n",
    "\n",
    "if comp_number>user_input:\n",
    "    print(\"Computer number is :\",comp_number)\n",
    "    print(\"\\n\\tYour guess is too Low\")\n",
    "elif comp_number<user_input:\n",
    "    print(\"comp_number is :\",comp_number)\n",
    "    print(\"\\n\\tYour guess is too High\")\n",
    "else:\n",
    "    print(\"comp_number is :\",comp_number)\n",
    "    print(\"\\n\\tYour guess is equal to comp_number\")\n",
    "    \n",
    "print(\"\\n\\tThanks for Playing !!!\")"
   ]
  },
  {
   "cell_type": "code",
   "execution_count": null,
   "id": "696d0129",
   "metadata": {},
   "outputs": [],
   "source": []
  }
 ],
 "metadata": {
  "kernelspec": {
   "display_name": "Python 3 (ipykernel)",
   "language": "python",
   "name": "python3"
  },
  "language_info": {
   "codemirror_mode": {
    "name": "ipython",
    "version": 3
   },
   "file_extension": ".py",
   "mimetype": "text/x-python",
   "name": "python",
   "nbconvert_exporter": "python",
   "pygments_lexer": "ipython3",
   "version": "3.9.7"
  }
 },
 "nbformat": 4,
 "nbformat_minor": 5
}
